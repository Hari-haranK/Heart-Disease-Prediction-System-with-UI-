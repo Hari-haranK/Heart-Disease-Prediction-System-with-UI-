{
 "cells": [
  {
   "cell_type": "code",
   "execution_count": 1,
   "metadata": {
    "execution": {
     "iopub.execute_input": "2022-10-15T10:05:16.111235Z",
     "iopub.status.busy": "2022-10-15T10:05:16.110339Z",
     "iopub.status.idle": "2022-10-15T10:05:17.464576Z",
     "shell.execute_reply": "2022-10-15T10:05:17.463358Z",
     "shell.execute_reply.started": "2022-10-15T10:05:16.111044Z"
    }
   },
   "outputs": [],
   "source": [
    "import pandas as pd\n",
    "import numpy as np\n",
    "import matplotlib.pyplot as plt\n",
    "%matplotlib inline\n",
    "import seaborn as sns\n",
    "pd.options.display.float_format = '{:.2f}'.format\n",
    "import warnings\n",
    "warnings.filterwarnings('ignore')"
   ]
  },
  {
   "cell_type": "code",
   "execution_count": null,
   "metadata": {
    "execution": {
     "iopub.execute_input": "2022-10-15T10:05:17.467502Z",
     "iopub.status.busy": "2022-10-15T10:05:17.466480Z",
     "iopub.status.idle": "2022-10-15T10:05:17.513326Z",
     "shell.execute_reply": "2022-10-15T10:05:17.511878Z",
     "shell.execute_reply.started": "2022-10-15T10:05:17.467459Z"
    },
    "scrolled": true
   },
   "outputs": [],
   "source": [
    "data = pd.read_csv('dataset.csv')\n",
    "data.head()"
   ]
  },
  {
   "cell_type": "code",
   "execution_count": null,
   "metadata": {
    "execution": {
     "iopub.execute_input": "2022-10-15T10:05:17.515784Z",
     "iopub.status.busy": "2022-10-15T10:05:17.514896Z",
     "iopub.status.idle": "2022-10-15T10:05:17.524712Z",
     "shell.execute_reply": "2022-10-15T10:05:17.523307Z",
     "shell.execute_reply.started": "2022-10-15T10:05:17.515735Z"
    }
   },
   "outputs": [],
   "source": [
    "data.shape"
   ]
  },
  {
   "cell_type": "code",
   "execution_count": null,
   "metadata": {
    "execution": {
     "iopub.execute_input": "2022-10-15T10:05:17.528391Z",
     "iopub.status.busy": "2022-10-15T10:05:17.527370Z",
     "iopub.status.idle": "2022-10-15T10:05:17.539421Z",
     "shell.execute_reply": "2022-10-15T10:05:17.538172Z",
     "shell.execute_reply.started": "2022-10-15T10:05:17.528348Z"
    }
   },
   "outputs": [],
   "source": [
    "data.columns"
   ]
  },
  {
   "cell_type": "code",
   "execution_count": null,
   "metadata": {
    "execution": {
     "iopub.execute_input": "2022-10-15T10:05:17.541521Z",
     "iopub.status.busy": "2022-10-15T10:05:17.541082Z",
     "iopub.status.idle": "2022-10-15T10:05:17.575324Z",
     "shell.execute_reply": "2022-10-15T10:05:17.574340Z",
     "shell.execute_reply.started": "2022-10-15T10:05:17.541484Z"
    }
   },
   "outputs": [],
   "source": [
    "data.info()"
   ]
  },
  {
   "cell_type": "code",
   "execution_count": null,
   "metadata": {
    "execution": {
     "iopub.execute_input": "2022-10-15T10:05:17.576591Z",
     "iopub.status.busy": "2022-10-15T10:05:17.576277Z",
     "iopub.status.idle": "2022-10-15T10:05:17.952730Z",
     "shell.execute_reply": "2022-10-15T10:05:17.951365Z",
     "shell.execute_reply.started": "2022-10-15T10:05:17.576562Z"
    }
   },
   "outputs": [],
   "source": [
    "sns.heatmap(data.isnull(),cmap = 'magma',cbar = False);"
   ]
  },
  {
   "cell_type": "code",
   "execution_count": null,
   "metadata": {
    "execution": {
     "iopub.execute_input": "2022-10-15T10:05:17.954828Z",
     "iopub.status.busy": "2022-10-15T10:05:17.954408Z",
     "iopub.status.idle": "2022-10-15T10:05:18.008837Z",
     "shell.execute_reply": "2022-10-15T10:05:18.007328Z",
     "shell.execute_reply.started": "2022-10-15T10:05:17.954792Z"
    }
   },
   "outputs": [],
   "source": [
    "data.describe().T"
   ]
  },
  {
   "cell_type": "code",
   "execution_count": null,
   "metadata": {
    "execution": {
     "iopub.execute_input": "2022-10-15T10:05:18.010835Z",
     "iopub.status.busy": "2022-10-15T10:05:18.010496Z",
     "iopub.status.idle": "2022-10-15T10:05:18.575543Z",
     "shell.execute_reply": "2022-10-15T10:05:18.574101Z",
     "shell.execute_reply.started": "2022-10-15T10:05:18.010805Z"
    }
   },
   "outputs": [],
   "source": [
    "yes = data[data['DEATH_EVENT'] == 1].describe().T\n",
    "no = data[data['DEATH_EVENT'] == 0].describe().T\n",
    "\n",
    "colors = ['#FE251B','#FFFFFF']\n",
    "\n",
    "fig,ax = plt.subplots(nrows = 1,ncols = 2,figsize = (5,5),)\n",
    "plt.subplot(1,2,1)\n",
    "sns.heatmap(yes[['mean']],annot = True,cmap = colors,linewidths = 0.4,linecolor = 'black',cbar = False,fmt = '.2f')\n",
    "plt.title('Death Event Occurred');\n",
    "\n",
    "plt.subplot(1,2,2)\n",
    "sns.heatmap(no[['mean']],annot = True,cmap = colors,linewidths = 0.4,linecolor = 'black',cbar = False,fmt = '.2f')\n",
    "plt.title('No Death Event Occurred');\n",
    "\n",
    "fig.tight_layout(pad = -3)"
   ]
  },
  {
   "cell_type": "code",
   "execution_count": null,
   "metadata": {
    "execution": {
     "iopub.execute_input": "2022-10-15T10:05:18.577728Z",
     "iopub.status.busy": "2022-10-15T10:05:18.577234Z",
     "iopub.status.idle": "2022-10-15T10:05:18.592757Z",
     "shell.execute_reply": "2022-10-15T10:05:18.591386Z",
     "shell.execute_reply.started": "2022-10-15T10:05:18.577683Z"
    }
   },
   "outputs": [],
   "source": [
    "col = list(data.columns)\n",
    "categorical_features = []\n",
    "numerical_features = []\n",
    "for i in col:\n",
    "    if len(data[i].unique()) > 6:\n",
    "        numerical_features.append(i)\n",
    "    else:\n",
    "        categorical_features.append(i)\n",
    "\n",
    "print('Categorical Features :',*categorical_features)\n",
    "print('Numerical Features :',*numerical_features)"
   ]
  },
  {
   "cell_type": "code",
   "execution_count": 10,
   "metadata": {
    "execution": {
     "iopub.execute_input": "2022-10-15T10:05:18.599313Z",
     "iopub.status.busy": "2022-10-15T10:05:18.598354Z",
     "iopub.status.idle": "2022-10-15T10:05:18.608258Z",
     "shell.execute_reply": "2022-10-15T10:05:18.606971Z",
     "shell.execute_reply.started": "2022-10-15T10:05:18.599268Z"
    }
   },
   "outputs": [],
   "source": [
    "data['age'] = data['age'].astype(int)\n",
    "data['platelets'] = data['platelets'].astype(int)\n",
    "df1 = data.copy(deep = True)"
   ]
  },
  {
   "cell_type": "code",
   "execution_count": null,
   "metadata": {
    "execution": {
     "iopub.execute_input": "2022-10-15T10:05:18.610244Z",
     "iopub.status.busy": "2022-10-15T10:05:18.609791Z",
     "iopub.status.idle": "2022-10-15T10:05:19.368634Z",
     "shell.execute_reply": "2022-10-15T10:05:19.367316Z",
     "shell.execute_reply.started": "2022-10-15T10:05:18.610211Z"
    }
   },
   "outputs": [],
   "source": [
    "fig, ax = plt.subplots(nrows = 3,ncols = 2,figsize = (10,15))\n",
    "for i in range(len(categorical_features)):\n",
    "    \n",
    "    plt.subplot(3,2,i+1)\n",
    "    sns.distplot(df1[categorical_features[i]],kde_kws = {'bw' : 1},color = colors[0]);\n",
    "    title = 'Distribution : ' + categorical_features[i]\n",
    "    plt.title(title)"
   ]
  },
  {
   "cell_type": "code",
   "execution_count": null,
   "metadata": {
    "execution": {
     "iopub.execute_input": "2022-10-15T10:05:19.370498Z",
     "iopub.status.busy": "2022-10-15T10:05:19.370107Z",
     "iopub.status.idle": "2022-10-15T10:05:20.962514Z",
     "shell.execute_reply": "2022-10-15T10:05:20.961192Z",
     "shell.execute_reply.started": "2022-10-15T10:05:19.370467Z"
    }
   },
   "outputs": [],
   "source": [
    "fig, ax = plt.subplots(nrows = 3,ncols = 2,figsize = (10,15))\n",
    "for i in range(len(numerical_features) - 1):\n",
    "    plt.subplot(3,2,i+1)\n",
    "    sns.distplot(data[numerical_features[i]],color = colors[0])\n",
    "    title = 'Distribution : ' + numerical_features[i]\n",
    "    plt.title(title)\n",
    "plt.show()\n",
    "\n",
    "plt.figure(figsize = (4.75,4.55))\n",
    "sns.distplot(df1[numerical_features[len(numerical_features) - 1]],kde_kws = {'bw' : 1},color = colors[0])\n",
    "title = 'Distribution : ' + numerical_features[len(numerical_features) - 1]\n",
    "plt.title(title);"
   ]
  },
  {
   "cell_type": "code",
   "execution_count": null,
   "metadata": {
    "execution": {
     "iopub.execute_input": "2022-10-15T10:05:20.964948Z",
     "iopub.status.busy": "2022-10-15T10:05:20.964060Z",
     "iopub.status.idle": "2022-10-15T10:05:21.265640Z",
     "shell.execute_reply": "2022-10-15T10:05:21.264459Z",
     "shell.execute_reply.started": "2022-10-15T10:05:20.964913Z"
    }
   },
   "outputs": [],
   "source": [
    "l = list(data['DEATH_EVENT'].value_counts())\n",
    "circle = [l[0] / sum(l) * 100,l[1] / sum(l) * 100]\n",
    "\n",
    "fig = plt.subplots(nrows = 1,ncols = 2,figsize = (20,5))\n",
    "plt.subplot(1,2,1)\n",
    "plt.pie(circle,labels = ['No Death Event Occurred','Death Event Occurred'],autopct='%1.1f%%',startangle = 90,explode = (0.1,0),colors = colors,\n",
    "       wedgeprops = {'edgecolor' : 'black','linewidth': 1,'antialiased' : True})\n",
    "plt.title('Death Events Due to Heart Disease %');\n",
    "\n",
    "plt.subplot(1,2,2)\n",
    "ax = sns.countplot('DEATH_EVENT',data = data, palette = colors,edgecolor = 'black')\n",
    "for rect in ax.patches:\n",
    "    ax.text(rect.get_x() + rect.get_width() / 2, rect.get_height() + 2, rect.get_height(), horizontalalignment='center', fontsize = 11)\n",
    "ax.set_xticklabels(['No Death Event','Death Event'])\n",
    "plt.title('Cases of Death Events Due to Heart Disease');\n",
    "plt.show()"
   ]
  },
  {
   "cell_type": "code",
   "execution_count": null,
   "metadata": {
    "execution": {
     "iopub.execute_input": "2022-10-15T10:05:21.268544Z",
     "iopub.status.busy": "2022-10-15T10:05:21.267225Z",
     "iopub.status.idle": "2022-10-15T10:05:22.100451Z",
     "shell.execute_reply": "2022-10-15T10:05:22.099218Z",
     "shell.execute_reply.started": "2022-10-15T10:05:21.268500Z"
    }
   },
   "outputs": [],
   "source": [
    "fig = plt.subplots(nrows = 2,ncols = 2,figsize = (10,9.75))\n",
    "for i in range(len(categorical_features) - 2):\n",
    "    plt.subplot(2,2,i+1)\n",
    "    ax = sns.countplot(categorical_features[i],data = data,hue = \"DEATH_EVENT\",palette = colors,edgecolor = 'black')\n",
    "    for rect in ax.patches:\n",
    "        ax.text(rect.get_x() + rect.get_width() / 2, rect.get_height() + 2, rect.get_height(), horizontalalignment='center', fontsize = 11)\n",
    "    ax.set_xticklabels(['No Death Event','Death Event'])\n",
    "    title = categorical_features[i] + ' vs DEATH_EVENT'\n",
    "    plt.title(title);\n",
    "    \n",
    "plt.figure(figsize = (4.75,4.55))\n",
    "ax = sns.countplot(categorical_features[-2],data = data,hue = \"DEATH_EVENT\",palette = colors,edgecolor = 'black')\n",
    "for rect in ax.patches:\n",
    "    ax.text(rect.get_x() + rect.get_width() / 2, rect.get_height() + 2, rect.get_height(), horizontalalignment='center', fontsize = 11)\n",
    "ax.set_xticklabels(['No Death Event','Death Event'])\n",
    "title = categorical_features[-2] + ' vs DEATH_EVENT'\n",
    "plt.title(title);"
   ]
  },
  {
   "cell_type": "code",
   "execution_count": 15,
   "metadata": {
    "execution": {
     "iopub.execute_input": "2022-10-15T10:05:22.103429Z",
     "iopub.status.busy": "2022-10-15T10:05:22.102102Z",
     "iopub.status.idle": "2022-10-15T10:05:22.120755Z",
     "shell.execute_reply": "2022-10-15T10:05:22.119709Z",
     "shell.execute_reply.started": "2022-10-15T10:05:22.103376Z"
    }
   },
   "outputs": [],
   "source": [
    "anaemia = data[data['DEATH_EVENT'] == 1]['anaemia'].value_counts()\n",
    "anaemia = [anaemia[0] / sum(anaemia) * 100, anaemia[1] / sum(anaemia) * 100]\n",
    "\n",
    "diabetes = data[data['DEATH_EVENT'] == 1]['diabetes'].value_counts()\n",
    "diabetes = [diabetes[0] / sum(diabetes) * 100,diabetes[1] / sum(diabetes) * 100]\n",
    "\n",
    "hbp = data[data['DEATH_EVENT'] == 1]['high_blood_pressure'].value_counts()\n",
    "hbp = [hbp[0] / sum(hbp) * 100,hbp[1] / sum(hbp) * 100]\n",
    "\n",
    "sex = data[data['DEATH_EVENT'] == 1]['sex'].value_counts()\n",
    "sex = [sex[0] / sum(sex) * 100,sex[1] / sum(sex) * 100]\n",
    "\n",
    "smoke = data[data['DEATH_EVENT'] == 1]['smoking'].value_counts()\n",
    "smoke = [smoke[0] / sum(smoke) * 100,smoke[1] / sum(smoke) * 100]"
   ]
  },
  {
   "cell_type": "code",
   "execution_count": null,
   "metadata": {
    "execution": {
     "iopub.execute_input": "2022-10-15T10:05:22.123519Z",
     "iopub.status.busy": "2022-10-15T10:05:22.122309Z",
     "iopub.status.idle": "2022-10-15T10:05:22.575151Z",
     "shell.execute_reply": "2022-10-15T10:05:22.573900Z",
     "shell.execute_reply.started": "2022-10-15T10:05:22.123471Z"
    }
   },
   "outputs": [],
   "source": [
    "ax,fig = plt.subplots(nrows = 1,ncols = 3,figsize = (15,15))\n",
    "\n",
    "plt.subplot(1,3,1)\n",
    "plt.pie(anaemia,labels = ['No Anaemia','Anaemia'],autopct='%1.1f%%',startangle = 90,explode = (0.1,0),colors = colors,\n",
    "       wedgeprops = {'edgecolor' : 'black','linewidth': 1,'antialiased' : True})\n",
    "plt.title('Anaemia');\n",
    "\n",
    "plt.subplot(1,3,2)\n",
    "plt.pie(diabetes,labels = ['No Diabetes', 'Diabetes'],autopct='%1.1f%%',startangle = 90,explode = (0,0.1),colors = colors,\n",
    "       wedgeprops = {'edgecolor' : 'black','linewidth': 1,'antialiased' : True})\n",
    "plt.title('Diabetes');\n",
    "\n",
    "plt.subplot(1,3,3)\n",
    "plt.pie(hbp,labels = ['No High Blood Pressure','High Blood Pressure'],autopct='%1.1f%%',startangle = 90,explode = (0.1,0),colors = colors,\n",
    "       wedgeprops = {'edgecolor' : 'black','linewidth': 1,'antialiased' : True})\n",
    "plt.title('High Blood Pressure');\n",
    "\n",
    "ax,fig = plt.subplots(nrows = 1,ncols = 2,figsize = (10,10))\n",
    "plt.subplot(1,2,1)\n",
    "plt.pie(sex,labels = ['Female','Male'],autopct='%1.1f%%',startangle = 90,explode = (0,0.1),colors = colors,\n",
    "       wedgeprops = {'edgecolor' : 'black','linewidth': 1,'antialiased' : True})\n",
    "plt.title('Sex');\n",
    "\n",
    "plt.subplot(1,2,2)\n",
    "plt.pie(smoke,labels = ['No Smoking','Smoking'],autopct='%1.1f%%',startangle = 90,explode = (0.1,0),colors = colors,\n",
    "        wedgeprops = {'edgecolor' : 'black','linewidth': 1,'antialiased' : True})\n",
    "plt.title('Smoking');"
   ]
  },
  {
   "cell_type": "code",
   "execution_count": null,
   "metadata": {
    "execution": {
     "iopub.execute_input": "2022-10-15T10:05:47.780569Z",
     "iopub.status.busy": "2022-10-15T10:05:47.779603Z",
     "iopub.status.idle": "2022-10-15T10:05:47.909945Z",
     "shell.execute_reply": "2022-10-15T10:05:47.908484Z",
     "shell.execute_reply.started": "2022-10-15T10:05:47.780521Z"
    }
   },
   "outputs": [],
   "source": [
    "from sklearn.preprocessing import MinMaxScaler,StandardScaler\n",
    "mms = MinMaxScaler() # Normalization\n",
    "ss = StandardScaler() # Standardization\n",
    "\n",
    "# Normalization\n",
    "df1['age'] = mms.fit_transform(df1[['age']])\n",
    "df1['creatinine_phosphokinase'] = mms.fit_transform(df1[['creatinine_phosphokinase']])\n",
    "df1['ejection_fraction'] = mms.fit_transform(df1[['ejection_fraction']])\n",
    "df1['serum_creatinine'] = mms.fit_transform(df1[['serum_creatinine']])\n",
    "df1['time'] = mms.fit_transform(df1[['time']])\n",
    "\n",
    "# Standardization\n",
    "df1['platelets'] = ss.fit_transform(df1[['platelets']])\n",
    "df1['serum_sodium'] = ss.fit_transform(df1[['serum_sodium']])\n",
    "df1.head()"
   ]
  },
  {
   "cell_type": "code",
   "execution_count": null,
   "metadata": {
    "execution": {
     "iopub.execute_input": "2022-10-15T10:05:47.912421Z",
     "iopub.status.busy": "2022-10-15T10:05:47.911882Z",
     "iopub.status.idle": "2022-10-15T10:05:48.985615Z",
     "shell.execute_reply": "2022-10-15T10:05:48.984062Z",
     "shell.execute_reply.started": "2022-10-15T10:05:47.912375Z"
    }
   },
   "outputs": [],
   "source": [
    "plt.figure(figsize = (20,5))\n",
    "sns.heatmap(df1.corr(),cmap = colors,annot = True);"
   ]
  },
  {
   "cell_type": "code",
   "execution_count": 37,
   "metadata": {
    "execution": {
     "iopub.execute_input": "2022-10-15T10:05:50.797287Z",
     "iopub.status.busy": "2022-10-15T10:05:50.796854Z",
     "iopub.status.idle": "2022-10-15T10:05:50.804297Z",
     "shell.execute_reply": "2022-10-15T10:05:50.802947Z",
     "shell.execute_reply.started": "2022-10-15T10:05:50.797251Z"
    }
   },
   "outputs": [],
   "source": [
    "from sklearn.model_selection import train_test_split\n",
    "from sklearn.metrics import confusion_matrix\n",
    "from sklearn.metrics import roc_auc_score\n",
    "from sklearn.metrics import plot_roc_curve\n",
    "from sklearn.model_selection import cross_val_score\n",
    "from sklearn.model_selection import GridSearchCV\n",
    "from sklearn.metrics import classification_report\n",
    "from sklearn.metrics import accuracy_score\n",
    "from sklearn.model_selection import RepeatedStratifiedKFold\n",
    "from sklearn.metrics import precision_recall_curve"
   ]
  },
  {
   "cell_type": "code",
   "execution_count": 38,
   "metadata": {
    "execution": {
     "iopub.execute_input": "2022-10-15T10:05:50.806723Z",
     "iopub.status.busy": "2022-10-15T10:05:50.806282Z",
     "iopub.status.idle": "2022-10-15T10:05:50.818860Z",
     "shell.execute_reply": "2022-10-15T10:05:50.817579Z",
     "shell.execute_reply.started": "2022-10-15T10:05:50.806689Z"
    }
   },
   "outputs": [],
   "source": [
    "x_train1, x_test1, y_train1, y_test1 = train_test_split(f1, t1, test_size = 0.15, random_state = 2)\n",
    "x_train2, x_test2, y_train2, y_test2 = train_test_split(f2, t2, test_size = 0.15, random_state = 2)"
   ]
  },
  {
   "cell_type": "code",
   "execution_count": 39,
   "metadata": {
    "execution": {
     "iopub.execute_input": "2022-10-15T10:05:50.821497Z",
     "iopub.status.busy": "2022-10-15T10:05:50.820391Z",
     "iopub.status.idle": "2022-10-15T10:05:50.834199Z",
     "shell.execute_reply": "2022-10-15T10:05:50.832765Z",
     "shell.execute_reply.started": "2022-10-15T10:05:50.821457Z"
    }
   },
   "outputs": [],
   "source": [
    "def model(classifier,x_train,y_train,x_test,y_test):\n",
    "    \n",
    "    classifier.fit(x_train,y_train)\n",
    "    prediction = classifier.predict(x_test)\n",
    "    cv = RepeatedStratifiedKFold(n_splits = 10,n_repeats = 3,random_state = 1)\n",
    "    print(\"Cross Validation Score : \",'{0:.2%}'.format(cross_val_score(classifier,x_train,y_train,cv = cv,scoring = 'roc_auc').mean()))\n",
    "    print(\"ROC_AUC Score : \",'{0:.2%}'.format(roc_auc_score(y_test,prediction)))\n",
    "    plot_roc_curve(classifier, x_test,y_test)\n",
    "    plt.title('ROC_AUC_Plot')\n",
    "    plt.show()\n",
    "\n",
    "def model_evaluation(classifier,x_test,y_test):\n",
    "    \n",
    "    # Confusion Matrix\n",
    "    cm = confusion_matrix(y_test,classifier.predict(x_test))\n",
    "    names = ['True Neg','False Pos','False Neg','True Pos']\n",
    "    counts = [value for value in cm.flatten()]\n",
    "    percentages = ['{0:.2%}'.format(value) for value in cm.flatten()/np.sum(cm)]\n",
    "    labels = [f'{v1}\\n{v2}\\n{v3}' for v1, v2, v3 in zip(names,counts,percentages)]\n",
    "    labels = np.asarray(labels).reshape(2,2)\n",
    "    sns.heatmap(cm,annot = labels,cmap = 'Blues',fmt ='')\n",
    "    \n",
    "    # Classification Report\n",
    "    print(classification_report(y_test,classifier.predict(x_test)))"
   ]
  },
  {
   "cell_type": "markdown",
   "metadata": {},
   "source": [
    "### 1] XGBoostClassifier :"
   ]
  },
  {
   "cell_type": "code",
   "execution_count": 40,
   "metadata": {
    "execution": {
     "iopub.execute_input": "2022-10-15T10:05:50.836065Z",
     "iopub.status.busy": "2022-10-15T10:05:50.835643Z",
     "iopub.status.idle": "2022-10-15T10:05:51.000414Z",
     "shell.execute_reply": "2022-10-15T10:05:50.999103Z",
     "shell.execute_reply.started": "2022-10-15T10:05:50.836030Z"
    }
   },
   "outputs": [],
   "source": [
    "from xgboost import XGBClassifier"
   ]
  },
  {
   "cell_type": "code",
   "execution_count": 41,
   "metadata": {
    "execution": {
     "iopub.execute_input": "2022-10-15T10:05:51.002362Z",
     "iopub.status.busy": "2022-10-15T10:05:51.001914Z",
     "iopub.status.idle": "2022-10-15T10:05:51.008239Z",
     "shell.execute_reply": "2022-10-15T10:05:51.006605Z",
     "shell.execute_reply.started": "2022-10-15T10:05:51.002309Z"
    }
   },
   "outputs": [],
   "source": [
    "classifier_xgb = XGBClassifier(learning_rate= 0.01,max_depth = 3,n_estimators = 1000)"
   ]
  },
  {
   "cell_type": "code",
   "execution_count": null,
   "metadata": {
    "execution": {
     "iopub.execute_input": "2022-10-15T10:05:51.010006Z",
     "iopub.status.busy": "2022-10-15T10:05:51.009584Z",
     "iopub.status.idle": "2022-10-15T10:07:52.783319Z",
     "shell.execute_reply": "2022-10-15T10:07:52.781593Z",
     "shell.execute_reply.started": "2022-10-15T10:05:51.009962Z"
    }
   },
   "outputs": [],
   "source": [
    "model(classifier_xgb,x_train1,y_train1,x_test1,y_test1)\n",
    "model_evaluation(classifier_xgb,x_test1,y_test1)"
   ]
  },
  {
   "cell_type": "markdown",
   "metadata": {},
   "source": [
    "### 2] LogisticRegression :"
   ]
  },
  {
   "cell_type": "code",
   "execution_count": 44,
   "metadata": {
    "execution": {
     "iopub.execute_input": "2022-10-15T10:10:03.115048Z",
     "iopub.status.busy": "2022-10-15T10:10:03.114421Z",
     "iopub.status.idle": "2022-10-15T10:10:03.119773Z",
     "shell.execute_reply": "2022-10-15T10:10:03.118603Z",
     "shell.execute_reply.started": "2022-10-15T10:10:03.115012Z"
    }
   },
   "outputs": [],
   "source": [
    "from sklearn.linear_model import LogisticRegression"
   ]
  },
  {
   "cell_type": "code",
   "execution_count": 45,
   "metadata": {
    "execution": {
     "iopub.execute_input": "2022-10-15T10:10:03.122338Z",
     "iopub.status.busy": "2022-10-15T10:10:03.121371Z",
     "iopub.status.idle": "2022-10-15T10:10:03.131826Z",
     "shell.execute_reply": "2022-10-15T10:10:03.130951Z",
     "shell.execute_reply.started": "2022-10-15T10:10:03.122293Z"
    }
   },
   "outputs": [],
   "source": [
    "classifier_lr = LogisticRegression(random_state = 0,C=10,penalty= 'l2') "
   ]
  },
  {
   "cell_type": "markdown",
   "metadata": {},
   "source": [
    "#### Model based on Statistical Test :"
   ]
  },
  {
   "cell_type": "code",
   "execution_count": null,
   "metadata": {
    "execution": {
     "iopub.execute_input": "2022-10-15T10:10:03.134660Z",
     "iopub.status.busy": "2022-10-15T10:10:03.133343Z",
     "iopub.status.idle": "2022-10-15T10:10:03.767080Z",
     "shell.execute_reply": "2022-10-15T10:10:03.766255Z",
     "shell.execute_reply.started": "2022-10-15T10:10:03.134610Z"
    }
   },
   "outputs": [],
   "source": [
    "model(classifier_lr,x_train1,y_train1,x_test1,y_test1)\n",
    "model_evaluation(classifier_lr,x_test1,y_test1)"
   ]
  }
 ],
 "metadata": {
  "kernelspec": {
   "display_name": "Python 3",
   "language": "python",
   "name": "python3"
  },
  "language_info": {
   "codemirror_mode": {
    "name": "ipython",
    "version": 3
   },
   "file_extension": ".py",
   "mimetype": "text/x-python",
   "name": "python",
   "nbconvert_exporter": "python",
   "pygments_lexer": "ipython3",
   "version": "3.11.5"
  }
 },
 "nbformat": 4,
 "nbformat_minor": 4
}
